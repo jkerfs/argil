{
 "cells": [
  {
   "cell_type": "code",
   "execution_count": 1,
   "metadata": {
    "collapsed": false
   },
   "outputs": [],
   "source": [
    "%load_ext autoreload\n",
    "%autoreload 2"
   ]
  },
  {
   "cell_type": "code",
   "execution_count": 23,
   "metadata": {
    "collapsed": true
   },
   "outputs": [],
   "source": [
    "from argil import Environment, Object\n",
    "from argil.contrib.crowd import SocialForceAgent\n",
    "from argil.producers import MatplotlibProducer, PandasProducer\n",
    "from argil.simulations import RecordSimulation\n",
    "\n",
    "import numpy as np"
   ]
  },
  {
   "cell_type": "code",
   "execution_count": 40,
   "metadata": {
    "collapsed": true
   },
   "outputs": [],
   "source": [
    "agents = []\n",
    "for i in np.linspace(0, 2 * np.pi, 25):\n",
    "    start = (5 * np.cos(i) + 5, 5 * np.sin(i) + 5)\n",
    "    offset = .5 # np.random.normal(.3, .2)\n",
    "    end = (5 * np.cos(np.pi + i + offset) + 5, 5 * np.sin(np.pi + i + offset) + 5)\n",
    "    ped = SocialForceAgent(start[0], start[1], .2)\n",
    "    ped.add_waypoint(end)\n",
    "    agents.append(ped)\n",
    "\"\"\"\n",
    "ped1 = SocialForceAgent(10, 5, .2)\n",
    "ped1.add_waypoint((0, 5))\n",
    "ped2 = SocialForceAgent(0, 5, .2)\n",
    "ped2.add_waypoint((10,5))\n",
    "agents = [ped1, ped2]\n",
    "\"\"\"\n",
    "env = Environment(agents, [], 10, 10)"
   ]
  },
  {
   "cell_type": "code",
   "execution_count": 41,
   "metadata": {
    "collapsed": false
   },
   "outputs": [],
   "source": [
    "num_steps=100\n",
    "inc=5\n",
    "size=100\n",
    "\n",
    "def glance(agent):\n",
    "    if isinstance(agent, Object):\n",
    "        return {\"x\": agent.x, \"y\": agent.y, \"width\": agent.width, \"height\": agent.height}\n",
    "\n",
    "def observe(agent):\n",
    "    return {\"x\": agent.x, \"y\": agent.y, \"done\": agent.done, \"color\": agent.color, \"size\": size}\n",
    "\n",
    "def survey(env):\n",
    "    return {\"width\": env.width, \"height\": env.height}\n",
    "\n",
    "sim = RecordSimulation(glance, observe, survey, num_steps=num_steps, inc=inc)\n",
    "pprod = PandasProducer()\n",
    "mprod = MatplotlibProducer()"
   ]
  },
  {
   "cell_type": "code",
   "execution_count": 42,
   "metadata": {
    "collapsed": false
   },
   "outputs": [],
   "source": [
    "anim = mprod.produce(sim.run(env))"
   ]
  },
  {
   "cell_type": "code",
   "execution_count": 43,
   "metadata": {
    "collapsed": false
   },
   "outputs": [
    {
     "data": {
      "text/html": [
       "<img src=\"temp.gif?UTVVOCTYRN\"/>"
      ],
      "text/plain": [
       "<IPython.core.display.HTML object>"
      ]
     },
     "metadata": {},
     "output_type": "display_data"
    }
   ],
   "source": [
    "anim.display_gif(\"temp.gif\", (6, 6), num_steps, inc)"
   ]
  },
  {
   "cell_type": "code",
   "execution_count": null,
   "metadata": {
    "collapsed": true
   },
   "outputs": [],
   "source": []
  },
  {
   "cell_type": "code",
   "execution_count": null,
   "metadata": {
    "collapsed": true
   },
   "outputs": [],
   "source": []
  }
 ],
 "metadata": {
  "kernelspec": {
   "display_name": "Python 2",
   "language": "python",
   "name": "python2"
  },
  "language_info": {
   "codemirror_mode": {
    "name": "ipython",
    "version": 2
   },
   "file_extension": ".py",
   "mimetype": "text/x-python",
   "name": "python",
   "nbconvert_exporter": "python",
   "pygments_lexer": "ipython2",
   "version": "2.7.6"
  }
 },
 "nbformat": 4,
 "nbformat_minor": 2
}
