{
 "cells": [
  {
   "cell_type": "code",
   "execution_count": 1,
   "metadata": {
    "collapsed": false
   },
   "outputs": [],
   "source": [
    "from IPython.display import display, HTML\n",
    "\n",
    "import pandas as pd\n",
    "import numpy as np\n",
    "import random\n",
    "import string\n",
    "import json"
   ]
  },
  {
   "cell_type": "code",
   "execution_count": 2,
   "metadata": {
    "collapsed": false
   },
   "outputs": [],
   "source": [
    "%load_ext autoreload\n",
    "%autoreload 2"
   ]
  },
  {
   "cell_type": "code",
   "execution_count": 3,
   "metadata": {
    "collapsed": true
   },
   "outputs": [],
   "source": [
    "import sys\n",
    "sys.path.append(\"../../\")"
   ]
  },
  {
   "cell_type": "code",
   "execution_count": 4,
   "metadata": {
    "collapsed": false
   },
   "outputs": [],
   "source": [
    "from argil.simulation import D3Simulation, MatplotlibSimulation, PandasSimulation\n",
    "import argil.environment\n",
    "from argil.experimentation import experiment\n",
    "from argil.entity import Agent, Object"
   ]
  },
  {
   "cell_type": "code",
   "execution_count": 5,
   "metadata": {
    "collapsed": true
   },
   "outputs": [],
   "source": [
    "width = 500\n",
    "height = 300\n",
    "\n",
    "def step(self, get_obstacles, get_neighbors):\n",
    "    if self.y < 190:\n",
    "        self.y += 5\n",
    "    elif self.y == 190:\n",
    "        self.direction = random.choice([-1,1])\n",
    "        self.y += 5\n",
    "    else:\n",
    "        self.x += self.direction * 5\n",
    "        if self.x < 0 or self.x > width:\n",
    "            return True\n",
    "    return False\n",
    "\n",
    "def glance(self):\n",
    "    if isinstance(self, Object):\n",
    "        props = {\"_shape\": \"rect\"}\n",
    "        props.update(vars(self))\n",
    "        return props\n",
    "    else:\n",
    "        return {\"_shape\": \"circle\", \"r\": 10, \"fill\": \"blue\"}\n",
    "\n",
    "def observe(self):\n",
    "    return {\"cx\": self.x, \"cy\": self.y}"
   ]
  },
  {
   "cell_type": "code",
   "execution_count": 6,
   "metadata": {
    "collapsed": false
   },
   "outputs": [],
   "source": [
    "agent = Agent(step, x=250, y=0)\n",
    "agents = [agent]\n",
    "\n",
    "left_wall = Object(x=0, y=0, width=200, height=150)\n",
    "right_wall = Object(x=300, y=0, width=200, height=150)\n",
    "bottom_wall = Object(x=0, y=250, width=500, height=50, fill=\"blue\")\n",
    "objects = [left_wall, right_wall, bottom_wall]\n",
    "roboWorld = argil.environment.Environment(agents, objects, width, height)"
   ]
  },
  {
   "cell_type": "code",
   "execution_count": 7,
   "metadata": {
    "collapsed": true
   },
   "outputs": [],
   "source": [
    "simulation = D3Simulation(observe, glance, num_steps=None, speed=5)"
   ]
  },
  {
   "cell_type": "code",
   "execution_count": 8,
   "metadata": {
    "collapsed": false
   },
   "outputs": [
    {
     "data": {
      "text/html": [
       "<script>\n",
       "    requirejs.config({\n",
       "        paths: {\n",
       "            d3: \"//cdnjs.cloudflare.com/ajax/libs/d3/3.4.8/d3.min\"\n",
       "        }\n",
       "    });\n",
       "    require(['d3'], function(d3) {\n",
       "        window.d3 = d3;\n",
       "        (function w(d3) {\n",
       "            var agent_sequence = [[{'cy': 5, 'cx': 250}], [{'cy': 10, 'cx': 250}], [{'cy': 15, 'cx': 250}], [{'cy': 20, 'cx': 250}], [{'cy': 25, 'cx': 250}], [{'cy': 30, 'cx': 250}], [{'cy': 35, 'cx': 250}], [{'cy': 40, 'cx': 250}], [{'cy': 45, 'cx': 250}], [{'cy': 50, 'cx': 250}], [{'cy': 55, 'cx': 250}], [{'cy': 60, 'cx': 250}], [{'cy': 65, 'cx': 250}], [{'cy': 70, 'cx': 250}], [{'cy': 75, 'cx': 250}], [{'cy': 80, 'cx': 250}], [{'cy': 85, 'cx': 250}], [{'cy': 90, 'cx': 250}], [{'cy': 95, 'cx': 250}], [{'cy': 100, 'cx': 250}], [{'cy': 105, 'cx': 250}], [{'cy': 110, 'cx': 250}], [{'cy': 115, 'cx': 250}], [{'cy': 120, 'cx': 250}], [{'cy': 125, 'cx': 250}], [{'cy': 130, 'cx': 250}], [{'cy': 135, 'cx': 250}], [{'cy': 140, 'cx': 250}], [{'cy': 145, 'cx': 250}], [{'cy': 150, 'cx': 250}], [{'cy': 155, 'cx': 250}], [{'cy': 160, 'cx': 250}], [{'cy': 165, 'cx': 250}], [{'cy': 170, 'cx': 250}], [{'cy': 175, 'cx': 250}], [{'cy': 180, 'cx': 250}], [{'cy': 185, 'cx': 250}], [{'cy': 190, 'cx': 250}], [{'cy': 195, 'cx': 250}], [{'cy': 195, 'cx': 255}], [{'cy': 195, 'cx': 260}], [{'cy': 195, 'cx': 265}], [{'cy': 195, 'cx': 270}], [{'cy': 195, 'cx': 275}], [{'cy': 195, 'cx': 280}], [{'cy': 195, 'cx': 285}], [{'cy': 195, 'cx': 290}], [{'cy': 195, 'cx': 295}], [{'cy': 195, 'cx': 300}], [{'cy': 195, 'cx': 305}], [{'cy': 195, 'cx': 310}], [{'cy': 195, 'cx': 315}], [{'cy': 195, 'cx': 320}], [{'cy': 195, 'cx': 325}], [{'cy': 195, 'cx': 330}], [{'cy': 195, 'cx': 335}], [{'cy': 195, 'cx': 340}], [{'cy': 195, 'cx': 345}], [{'cy': 195, 'cx': 350}], [{'cy': 195, 'cx': 355}], [{'cy': 195, 'cx': 360}], [{'cy': 195, 'cx': 365}], [{'cy': 195, 'cx': 370}], [{'cy': 195, 'cx': 375}], [{'cy': 195, 'cx': 380}], [{'cy': 195, 'cx': 385}], [{'cy': 195, 'cx': 390}], [{'cy': 195, 'cx': 395}], [{'cy': 195, 'cx': 400}], [{'cy': 195, 'cx': 405}], [{'cy': 195, 'cx': 410}], [{'cy': 195, 'cx': 415}], [{'cy': 195, 'cx': 420}], [{'cy': 195, 'cx': 425}], [{'cy': 195, 'cx': 430}], [{'cy': 195, 'cx': 435}], [{'cy': 195, 'cx': 440}], [{'cy': 195, 'cx': 445}], [{'cy': 195, 'cx': 450}], [{'cy': 195, 'cx': 455}], [{'cy': 195, 'cx': 460}], [{'cy': 195, 'cx': 465}], [{'cy': 195, 'cx': 470}], [{'cy': 195, 'cx': 475}], [{'cy': 195, 'cx': 480}], [{'cy': 195, 'cx': 485}], [{'cy': 195, 'cx': 490}], [{'cy': 195, 'cx': 495}], [{'cy': 195, 'cx': 500}], [{'cy': 195, 'cx': 505}]];\n",
       "            var original_agent_state = [{'_shape': 'circle', 'fill': 'blue', 'r': 10}];\n",
       "            var object_state = [{'_shape': 'rect', 'x': 0, 'width': 200, 'y': 0, 'height': 150, 'params': {'width': 200, 'x': 0, 'y': 0, 'height': 150}}, {'_shape': 'rect', 'x': 300, 'width': 200, 'y': 0, 'height': 150, 'params': {'width': 200, 'x': 300, 'y': 0, 'height': 150}}, {'_shape': 'rect', 'fill': 'blue', 'x': 0, 'width': 500, 'y': 250, 'height': 50, 'params': {'width': 500, 'x': 0, 'fill': 'blue', 'y': 250, 'height': 50}}];\n",
       "            var svg = d3.select(\"svg#DLFYBIGAYP\");\n",
       "            var agent_data = agent_sequence[0];\n",
       "            var box = svg.selectAll(\"g.agent\").data(agent_data);\n",
       "            box.enter().append(\"g\").classed(\"agent\");\n",
       "\n",
       "            var objects = svg.selectAll(\"g.object\").data(object_state);\n",
       "            objects.enter().append(\"g\").classed(\"object\");\n",
       "            objects.each(function(d,i) {\n",
       "                var obj = d3.select(this);\n",
       "                var shape = obj.append(object_state[i][\"_shape\"]);\n",
       "                for (var x in object_state[i]) {\n",
       "                    shape.attr(x, function(d) { return d[x]; });\n",
       "                    shape.style(x, function(d) { return d[x]; });\n",
       "                }\n",
       "            });\n",
       "\n",
       "            /*\n",
       "            var lines = svg.selectAll(\"path\").data(data);\n",
       "            lines.enter().append(\"path\").attr(\"stroke\", \"black\").attr(\"stroke-width\", 2).attr(\"fill\", \"none\");\n",
       "            */\n",
       "\n",
       "            /*\n",
       "            var linFunc = d3.svg.line()\n",
       "                .x(function(d) { return d.x; })\n",
       "                .y(function(d) { return d.y; })\n",
       "                .interpolate(\"linear\");\n",
       "             */\n",
       "\n",
       "            //var line_data = []\n",
       "\n",
       "            for (var j = 0; j < agent_data.length; j++) {\n",
       "                for (var i in original_agent_state[j]) {\n",
       "                    agent_data[j][i] = original_agent_state[j][i];\n",
       "                }\n",
       "                /*\n",
       "                temp_line = [];\n",
       "                temp_line.push({\"x\": agent_data[j][\"cx\"], \"y\": agent_data[j][\"cy\"]});\n",
       "                line_data.push(temp_line);\n",
       "                */\n",
       "            }\n",
       "\n",
       "            /*\n",
       "            lines.each(function(d,i) {d3.select(this).data(line_data[i]).attr(\"d\", linFunc(line_data[i])); });\n",
       "            */\n",
       "            box.each(function(d,i) { d3.select(this).append(d[\"_shape\"]); });\n",
       "\n",
       "            d3.timer(step);\n",
       "\n",
       "            var ind = 0, prev_ind = 0;\n",
       "            var speed = 5;\n",
       "            var dur = Math.ceil(500 / speed);\n",
       "            var period = agent_sequence.length * dur;\n",
       "            function step(elapsed) {\n",
       "                var t_p = elapsed % period;\n",
       "                ind = t_p / dur;\n",
       "                if (ind == prev_ind) {\n",
       "                    return false;\n",
       "                }\n",
       "                prev_ind = ind;\n",
       "                /*\n",
       "                if (ind == 0) {\n",
       "                    line_data = [];\n",
       "                    for (var j in agent_sequence[Math.floor(ind)]) {\n",
       "                        line_data.push({\"x\": data[j][\"cx\"], \"y\": data[j][\"cy\"]});\n",
       "                    }\n",
       "                }*/\n",
       "\n",
       "                var cur = agent_sequence[Math.floor(ind)];\n",
       "                for (var j in cur) {\n",
       "                    for (var i in cur[j]) {\n",
       "                        agent_data[j][i] = cur[j][i];\n",
       "                    }\n",
       "                    /*\n",
       "                    line_data[j].push({\"x\": data[j][\"cx\"], \"y\": data[j][\"cy\"]});\n",
       "                    */\n",
       "                }\n",
       "                /*\n",
       "                lines.each(function(d,i) {d3.select(this).data(line_data[i]).attr(\"d\", linFunc(line_data[i])); });\n",
       "                */\n",
       "                for (var i in cur[0]) {\n",
       "                    box.selectAll(\"*\").attr(i, function(d) { return d[i]; });\n",
       "                    box.selectAll(\"*\").style(i, function(d) { return d[i]; });\n",
       "                }\n",
       "                return false;\n",
       "            }\n",
       "        })(d3);\n",
       "    });\n",
       "\n",
       "</script>\n",
       "<svg id=\"DLFYBIGAYP\" width=\"500\" height=\"300\"></svg>\n"
      ],
      "text/plain": [
       "<IPython.core.display.HTML object>"
      ]
     },
     "metadata": {},
     "output_type": "display_data"
    }
   ],
   "source": [
    "simulation.run(roboWorld)"
   ]
  },
  {
   "cell_type": "code",
   "execution_count": 9,
   "metadata": {
    "collapsed": false,
    "scrolled": true
   },
   "outputs": [
    {
     "data": {
      "text/html": [
       "<div>\n",
       "<table border=\"1\" class=\"dataframe\">\n",
       "  <thead>\n",
       "    <tr style=\"text-align: right;\">\n",
       "      <th></th>\n",
       "      <th></th>\n",
       "      <th>x</th>\n",
       "      <th>y</th>\n",
       "    </tr>\n",
       "    <tr>\n",
       "      <th>step</th>\n",
       "      <th>agent</th>\n",
       "      <th></th>\n",
       "      <th></th>\n",
       "    </tr>\n",
       "  </thead>\n",
       "  <tbody>\n",
       "    <tr>\n",
       "      <th>1</th>\n",
       "      <th>0</th>\n",
       "      <td>250</td>\n",
       "      <td>5</td>\n",
       "    </tr>\n",
       "    <tr>\n",
       "      <th>2</th>\n",
       "      <th>0</th>\n",
       "      <td>250</td>\n",
       "      <td>10</td>\n",
       "    </tr>\n",
       "    <tr>\n",
       "      <th>3</th>\n",
       "      <th>0</th>\n",
       "      <td>250</td>\n",
       "      <td>15</td>\n",
       "    </tr>\n",
       "    <tr>\n",
       "      <th>4</th>\n",
       "      <th>0</th>\n",
       "      <td>250</td>\n",
       "      <td>20</td>\n",
       "    </tr>\n",
       "    <tr>\n",
       "      <th>5</th>\n",
       "      <th>0</th>\n",
       "      <td>250</td>\n",
       "      <td>25</td>\n",
       "    </tr>\n",
       "    <tr>\n",
       "      <th>6</th>\n",
       "      <th>0</th>\n",
       "      <td>250</td>\n",
       "      <td>30</td>\n",
       "    </tr>\n",
       "    <tr>\n",
       "      <th>7</th>\n",
       "      <th>0</th>\n",
       "      <td>250</td>\n",
       "      <td>35</td>\n",
       "    </tr>\n",
       "    <tr>\n",
       "      <th>8</th>\n",
       "      <th>0</th>\n",
       "      <td>250</td>\n",
       "      <td>40</td>\n",
       "    </tr>\n",
       "    <tr>\n",
       "      <th>9</th>\n",
       "      <th>0</th>\n",
       "      <td>250</td>\n",
       "      <td>45</td>\n",
       "    </tr>\n",
       "    <tr>\n",
       "      <th>10</th>\n",
       "      <th>0</th>\n",
       "      <td>250</td>\n",
       "      <td>50</td>\n",
       "    </tr>\n",
       "    <tr>\n",
       "      <th>11</th>\n",
       "      <th>0</th>\n",
       "      <td>250</td>\n",
       "      <td>55</td>\n",
       "    </tr>\n",
       "  </tbody>\n",
       "</table>\n",
       "</div>"
      ],
      "text/plain": [
       "              x   y\n",
       "step agent         \n",
       "1    0      250   5\n",
       "2    0      250  10\n",
       "3    0      250  15\n",
       "4    0      250  20\n",
       "5    0      250  25\n",
       "6    0      250  30\n",
       "7    0      250  35\n",
       "8    0      250  40\n",
       "9    0      250  45\n",
       "10   0      250  50\n",
       "11   0      250  55"
      ]
     },
     "execution_count": 9,
     "metadata": {},
     "output_type": "execute_result"
    }
   ],
   "source": [
    "def observe(self):\n",
    "    return {\"x\": self.x, \"y\": self.y}\n",
    "\n",
    "simulation = PandasSimulation(observe, num_steps=10)\n",
    "df = simulation.run(roboWorld)\n",
    "df"
   ]
  },
  {
   "cell_type": "code",
   "execution_count": 13,
   "metadata": {
    "collapsed": false
   },
   "outputs": [
    {
     "data": {
      "text/html": [
       "<img src=\"temp.gif?TCLXEDZKES\"/>"
      ],
      "text/plain": [
       "<IPython.core.display.HTML object>"
      ]
     },
     "metadata": {},
     "output_type": "display_data"
    }
   ],
   "source": [
    "def observe(self):\n",
    "    return {\"x\": self.x, \"y\": self.y, \"color\": \"purple\"}\n",
    "def glance(self):\n",
    "    return {\"x\": self.x, \"y\": self.y, \"width\": self.width, \"height\": self.height}\n",
    "\n",
    "simulation = MatplotlibSimulation(observe, glance)\n",
    "anim = simulation.run(roboWorld)\n",
    "anim.display_gif(\"temp.gif\", (2,2), 100, 1)"
   ]
  },
  {
   "cell_type": "code",
   "execution_count": 14,
   "metadata": {
    "collapsed": false
   },
   "outputs": [],
   "source": [
    "def observe(self):\n",
    "    return {\"x\": self.x, \"y\": self.y}\n",
    "\n",
    "def build(a, b):\n",
    "    agent = Agent(step, x=a, y=b)\n",
    "    agents = [agent]\n",
    "\n",
    "    left_wall = Object(x=0, y=0, width=200, height=150)\n",
    "    right_wall = Object(x=300, y=0, width=200, height=150)\n",
    "    bottom_wall = Object(x=0, y=250, width=500, height=50, fill=\"blue\")\n",
    "    objects = [left_wall, right_wall, bottom_wall]\n",
    "    roboWorld = argil.environment.Environment(agents, objects, width, height)\n",
    "    return roboWorld\n",
    "\n",
    "simulation = PandasSimulation(observe, num_steps=10)\n",
    "exp = experiment.Experiment(build, simulation, {\"a\": [220, 250, 280], \"b\":[0, 10, 20]})\n"
   ]
  },
  {
   "cell_type": "code",
   "execution_count": 15,
   "metadata": {
    "collapsed": false,
    "scrolled": true
   },
   "outputs": [
    {
     "name": "stdout",
     "output_type": "stream",
     "text": [
      "1 loop, best of 3: 860 ms per loop\n"
     ]
    }
   ],
   "source": [
    "%%timeit\n",
    "exp.run(100, num_threads=4)"
   ]
  },
  {
   "cell_type": "code",
   "execution_count": 56,
   "metadata": {
    "collapsed": false
   },
   "outputs": [
    {
     "name": "stdout",
     "output_type": "stream",
     "text": [
      "1 loop, best of 3: 1.66 s per loop\n"
     ]
    }
   ],
   "source": [
    "%%timeit\n",
    "exp.run(100, num_threads=1)"
   ]
  },
  {
   "cell_type": "code",
   "execution_count": null,
   "metadata": {
    "collapsed": true
   },
   "outputs": [],
   "source": []
  }
 ],
 "metadata": {
  "kernelspec": {
   "display_name": "Python 3",
   "language": "python",
   "name": "python3"
  },
  "language_info": {
   "codemirror_mode": {
    "name": "ipython",
    "version": 3
   },
   "file_extension": ".py",
   "mimetype": "text/x-python",
   "name": "python",
   "nbconvert_exporter": "python",
   "pygments_lexer": "ipython3",
   "version": "3.4.3"
  }
 },
 "nbformat": 4,
 "nbformat_minor": 0
}
