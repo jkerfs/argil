{
 "cells": [
  {
   "cell_type": "code",
   "execution_count": 24,
   "metadata": {
    "collapsed": true
   },
   "outputs": [],
   "source": [
    "from IPython.display import display, HTML\n",
    "\n",
    "import pandas as pd\n",
    "import numpy as np\n",
    "import random\n",
    "import string\n",
    "import json"
   ]
  },
  {
   "cell_type": "code",
   "execution_count": 25,
   "metadata": {
    "collapsed": false
   },
   "outputs": [
    {
     "name": "stdout",
     "output_type": "stream",
     "text": [
      "The autoreload extension is already loaded. To reload it, use:\n",
      "  %reload_ext autoreload\n"
     ]
    }
   ],
   "source": [
    "%load_ext autoreload\n",
    "%autoreload 2"
   ]
  },
  {
   "cell_type": "code",
   "execution_count": 26,
   "metadata": {
    "collapsed": true
   },
   "outputs": [],
   "source": [
    "import sys\n",
    "sys.path.append(\"../../\")"
   ]
  },
  {
   "cell_type": "code",
   "execution_count": 32,
   "metadata": {
    "collapsed": true
   },
   "outputs": [],
   "source": [
    "from argil.visualization import d3\n",
    "import argil.environment\n",
    "from argil.entity import Agent, Object"
   ]
  },
  {
   "cell_type": "code",
   "execution_count": 53,
   "metadata": {
    "collapsed": true
   },
   "outputs": [],
   "source": [
    "width = 500\n",
    "height = 300\n",
    "\n",
    "def step(self, get_obstacles, get_neighbors):\n",
    "    if self.y < 190:\n",
    "        self.y += 5\n",
    "    elif self.y == 190:\n",
    "        self.direction = random.choice([-1,1])\n",
    "        self.y += 5\n",
    "    else:\n",
    "        self.x += self.direction * 5\n",
    "        if self.x < 0 or self.x > width:\n",
    "            return True\n",
    "    return False\n",
    "\n",
    "def glance(self):\n",
    "    if isinstance(self, Object):\n",
    "        props = {\"_shape\": \"rect\"}\n",
    "        props.update(vars(self))\n",
    "        return props\n",
    "    else:\n",
    "        return {\"_shape\": \"circle\", \"r\": 10, \"fill\": \"blue\"}\n",
    "\n",
    "def observe(self):\n",
    "    return {\"cx\": self.x, \"cy\": self.y}"
   ]
  },
  {
   "cell_type": "code",
   "execution_count": 54,
   "metadata": {
    "collapsed": false
   },
   "outputs": [],
   "source": [
    "agent = Agent(step, x=250, y=0)\n",
    "agents = [agent]\n",
    "\n",
    "left_wall = Object(x=0, y=0, width=200, height=150)\n",
    "right_wall = Object(x=300, y=0, width=200, height=150)\n",
    "bottom_wall = Object(x=0, y=250, width=500, height=50, fill=\"blue\")\n",
    "objects = [left_wall, right_wall, bottom_wall]\n",
    "roboWorld = argil.environment.Environment(agents, objects, width, height)"
   ]
  },
  {
   "cell_type": "code",
   "execution_count": 55,
   "metadata": {
    "collapsed": true
   },
   "outputs": [],
   "source": [
    "simulation = d3.D3Simulation(roboWorld, observe, glance)"
   ]
  },
  {
   "cell_type": "code",
   "execution_count": 56,
   "metadata": {
    "collapsed": false
   },
   "outputs": [
    {
     "data": {
      "text/html": [
       "<script>\n",
       "    requirejs.config({\n",
       "        paths: {\n",
       "            d3: \"//cdnjs.cloudflare.com/ajax/libs/d3/3.4.8/d3.min\"\n",
       "        }\n",
       "    });\n",
       "    require(['d3'], function(d3) {\n",
       "        window.d3 = d3;\n",
       "        (function w(d3) {\n",
       "            var agent_sequence = [[{'cy': 5, 'cx': 250}], [{'cy': 10, 'cx': 250}], [{'cy': 15, 'cx': 250}], [{'cy': 20, 'cx': 250}], [{'cy': 25, 'cx': 250}], [{'cy': 30, 'cx': 250}], [{'cy': 35, 'cx': 250}], [{'cy': 40, 'cx': 250}], [{'cy': 45, 'cx': 250}], [{'cy': 50, 'cx': 250}], [{'cy': 55, 'cx': 250}], [{'cy': 60, 'cx': 250}], [{'cy': 65, 'cx': 250}], [{'cy': 70, 'cx': 250}], [{'cy': 75, 'cx': 250}], [{'cy': 80, 'cx': 250}], [{'cy': 85, 'cx': 250}], [{'cy': 90, 'cx': 250}], [{'cy': 95, 'cx': 250}], [{'cy': 100, 'cx': 250}], [{'cy': 105, 'cx': 250}], [{'cy': 110, 'cx': 250}], [{'cy': 115, 'cx': 250}], [{'cy': 120, 'cx': 250}], [{'cy': 125, 'cx': 250}], [{'cy': 130, 'cx': 250}], [{'cy': 135, 'cx': 250}], [{'cy': 140, 'cx': 250}], [{'cy': 145, 'cx': 250}], [{'cy': 150, 'cx': 250}], [{'cy': 155, 'cx': 250}], [{'cy': 160, 'cx': 250}], [{'cy': 165, 'cx': 250}], [{'cy': 170, 'cx': 250}], [{'cy': 175, 'cx': 250}], [{'cy': 180, 'cx': 250}], [{'cy': 185, 'cx': 250}], [{'cy': 190, 'cx': 250}], [{'cy': 195, 'cx': 250}], [{'cy': 195, 'cx': 245}], [{'cy': 195, 'cx': 240}], [{'cy': 195, 'cx': 235}], [{'cy': 195, 'cx': 230}], [{'cy': 195, 'cx': 225}], [{'cy': 195, 'cx': 220}], [{'cy': 195, 'cx': 215}], [{'cy': 195, 'cx': 210}], [{'cy': 195, 'cx': 205}], [{'cy': 195, 'cx': 200}], [{'cy': 195, 'cx': 195}], [{'cy': 195, 'cx': 190}], [{'cy': 195, 'cx': 185}], [{'cy': 195, 'cx': 180}], [{'cy': 195, 'cx': 175}], [{'cy': 195, 'cx': 170}], [{'cy': 195, 'cx': 165}], [{'cy': 195, 'cx': 160}], [{'cy': 195, 'cx': 155}], [{'cy': 195, 'cx': 150}], [{'cy': 195, 'cx': 145}], [{'cy': 195, 'cx': 140}], [{'cy': 195, 'cx': 135}], [{'cy': 195, 'cx': 130}], [{'cy': 195, 'cx': 125}], [{'cy': 195, 'cx': 120}], [{'cy': 195, 'cx': 115}], [{'cy': 195, 'cx': 110}], [{'cy': 195, 'cx': 105}], [{'cy': 195, 'cx': 100}], [{'cy': 195, 'cx': 95}], [{'cy': 195, 'cx': 90}], [{'cy': 195, 'cx': 85}], [{'cy': 195, 'cx': 80}], [{'cy': 195, 'cx': 75}], [{'cy': 195, 'cx': 70}], [{'cy': 195, 'cx': 65}], [{'cy': 195, 'cx': 60}], [{'cy': 195, 'cx': 55}], [{'cy': 195, 'cx': 50}], [{'cy': 195, 'cx': 45}], [{'cy': 195, 'cx': 40}], [{'cy': 195, 'cx': 35}], [{'cy': 195, 'cx': 30}], [{'cy': 195, 'cx': 25}], [{'cy': 195, 'cx': 20}], [{'cy': 195, 'cx': 15}], [{'cy': 195, 'cx': 10}], [{'cy': 195, 'cx': 5}], [{'cy': 195, 'cx': 0}], [{'cy': 195, 'cx': -5}]];\n",
       "            var original_agent_state = [{'fill': 'blue', '_shape': 'circle', 'r': 10}];\n",
       "            var object_state = [{'height': 150, 'y': 0, 'x': 0, 'width': 200, '_shape': 'rect'}, {'height': 150, 'y': 0, 'x': 300, 'width': 200, '_shape': 'rect'}, {'y': 250, '_shape': 'rect', 'height': 50, 'fill': 'blue', 'x': 0, 'width': 500}];\n",
       "            var svg = d3.select(\"svg#FGXHYDHOUB\");\n",
       "            var agent_data = agent_sequence[0];\n",
       "            var box = svg.selectAll(\"g.agent\").data(agent_data);\n",
       "            box.enter().append(\"g\").classed(\"agent\");\n",
       "\n",
       "            var objects = svg.selectAll(\"g.object\").data(object_state);\n",
       "            objects.enter().append(\"g\").classed(\"object\");\n",
       "            objects.each(function(d,i) {\n",
       "                var obj = d3.select(this);\n",
       "                var shape = obj.append(object_state[i][\"_shape\"]);\n",
       "                for (var x in object_state[i]) {\n",
       "                    shape.attr(x, function(d) { return d[x]; });\n",
       "                    shape.style(x, function(d) { return d[x]; });\n",
       "                }\n",
       "            });\n",
       "\n",
       "            /*\n",
       "            var lines = svg.selectAll(\"path\").data(data);\n",
       "            lines.enter().append(\"path\").attr(\"stroke\", \"black\").attr(\"stroke-width\", 2).attr(\"fill\", \"none\");\n",
       "            */\n",
       "\n",
       "            /*\n",
       "            var linFunc = d3.svg.line()\n",
       "                .x(function(d) { return d.x; })\n",
       "                .y(function(d) { return d.y; })\n",
       "                .interpolate(\"linear\");\n",
       "             */\n",
       "\n",
       "            //var line_data = []\n",
       "\n",
       "            for (var j = 0; j < agent_data.length; j++) {\n",
       "                for (var i in original_agent_state[j]) {\n",
       "                    agent_data[j][i] = original_agent_state[j][i];\n",
       "                }\n",
       "                /*\n",
       "                temp_line = [];\n",
       "                temp_line.push({\"x\": agent_data[j][\"cx\"], \"y\": agent_data[j][\"cy\"]});\n",
       "                line_data.push(temp_line);\n",
       "                */\n",
       "            }\n",
       "\n",
       "            /*\n",
       "            lines.each(function(d,i) {d3.select(this).data(line_data[i]).attr(\"d\", linFunc(line_data[i])); });\n",
       "            */\n",
       "            box.each(function(d,i) { d3.select(this).append(d[\"_shape\"]); });\n",
       "\n",
       "            d3.timer(step);\n",
       "\n",
       "            var ind = 0, prev_ind = 0;\n",
       "            var speed = 5;\n",
       "            var dur = Math.ceil(500 / speed);\n",
       "            var period = agent_sequence.length * dur;\n",
       "            function step(elapsed) {\n",
       "                var t_p = elapsed % period;\n",
       "                ind = t_p / dur;\n",
       "                if (ind == prev_ind) {\n",
       "                    return false;\n",
       "                }\n",
       "                prev_ind = ind;\n",
       "                /*\n",
       "                if (ind == 0) {\n",
       "                    line_data = [];\n",
       "                    for (var j in agent_sequence[Math.floor(ind)]) {\n",
       "                        line_data.push({\"x\": data[j][\"cx\"], \"y\": data[j][\"cy\"]});\n",
       "                    }\n",
       "                }*/\n",
       "\n",
       "                var cur = agent_sequence[Math.floor(ind)];\n",
       "                for (var j in cur) {\n",
       "                    for (var i in cur[j]) {\n",
       "                        agent_data[j][i] = cur[j][i];\n",
       "                    }\n",
       "                    /*\n",
       "                    line_data[j].push({\"x\": data[j][\"cx\"], \"y\": data[j][\"cy\"]});\n",
       "                    */\n",
       "                }\n",
       "                /*\n",
       "                lines.each(function(d,i) {d3.select(this).data(line_data[i]).attr(\"d\", linFunc(line_data[i])); });\n",
       "                */\n",
       "                for (var i in cur[0]) {\n",
       "                    box.selectAll(\"*\").attr(i, function(d) { return d[i]; });\n",
       "                    box.selectAll(\"*\").style(i, function(d) { return d[i]; });\n",
       "                }\n",
       "                return false;\n",
       "            }\n",
       "        })(d3);\n",
       "    });\n",
       "\n",
       "</script>\n",
       "<svg id=\"FGXHYDHOUB\" width=\"500\" height=\"300\"></svg>\n"
      ],
      "text/plain": [
       "<IPython.core.display.HTML object>"
      ]
     },
     "metadata": {},
     "output_type": "execute_result"
    }
   ],
   "source": [
    "simulation.run(num_steps=None, speed=5)"
   ]
  },
  {
   "cell_type": "code",
   "execution_count": null,
   "metadata": {
    "collapsed": true
   },
   "outputs": [],
   "source": [
    ""
   ]
  }
 ],
 "metadata": {
  "kernelspec": {
   "display_name": "Python 3",
   "language": "python",
   "name": "python3"
  },
  "language_info": {
   "codemirror_mode": {
    "name": "ipython",
    "version": 3.0
   },
   "file_extension": ".py",
   "mimetype": "text/x-python",
   "name": "python",
   "nbconvert_exporter": "python",
   "pygments_lexer": "ipython3",
   "version": "3.4.3"
  }
 },
 "nbformat": 4,
 "nbformat_minor": 0
}